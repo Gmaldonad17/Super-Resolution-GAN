{
 "cells": [
  {
   "cell_type": "code",
   "execution_count": 1,
   "id": "11224468-86ce-4ab1-99df-678bbcb2afe5",
   "metadata": {},
   "outputs": [],
   "source": [
    "import cv2\n",
    "import os\n",
    "import pandas as pd\n",
    "\n",
    "import torch\n",
    "from torch import nn\n",
    "from PIL import Image\n",
    "from torch.utils.data import Dataset, DataLoader, random_split\n",
    "from torchvision import transforms, datasets \n",
    "\n",
    "from torchmetrics.classification import BinaryAccuracy\n",
    "from sklearn.metrics import accuracy_score, f1_score, roc_auc_score\n",
    "from torchmetrics import ConfusionMatrix\n",
    "\n",
    "import copy\n",
    "import numpy as np\n",
    "from tqdm.auto import tqdm\n",
    "from matplotlib import pyplot as plt\n",
    "\n",
    "from efficientnet_pytorch import EfficientNet\n",
    "from utils.trainer import *"
   ]
  },
  {
   "cell_type": "code",
   "execution_count": 2,
   "id": "0be00981-3bf6-451b-b5ed-1842967b977b",
   "metadata": {},
   "outputs": [],
   "source": [
    "def compare_models(models, dataloaders, model_names=None, device=\"cuda\"):\n",
    "    if model_names is None:\n",
    "        model_names = [f'Model {i + 1}' for i in range(len(models))]\n",
    "\n",
    "    metrics = {\n",
    "        'F1 Score': f1_score,\n",
    "        'Accuracy': accuracy_score,\n",
    "        'AUC': roc_auc_score\n",
    "    }\n",
    "\n",
    "    results = {}\n",
    "    for metric_name, metric_func in metrics.items():\n",
    "        results[metric_name] = {}\n",
    "        for model_name, model, dataloader in zip(model_names, models, dataloaders):\n",
    "            for images, labels in tqdm(dataloader):\n",
    "                \n",
    "                images = images.to(device)\n",
    "                labels = torch.eye(2)[labels].to(device)\n",
    "                \n",
    "                model.eval()\n",
    "                with torch.no_grad():\n",
    "                    outputs = model(images).cpu()\n",
    "                    if metric_name == 'AUC':\n",
    "                        y_prob = torch.softmax(outputs, dim=1)\n",
    "                        y_prob_pos = y_prob[:, 1]\n",
    "                    y_pred = torch.argmax(outputs, dim=1)\n",
    "\n",
    "                if metric_name == 'AUC':\n",
    "                    labels = torch.Tensor([torch.argmax(i).item() for i in labels])\n",
    "                    score = metric_func(labels.cpu(), y_prob_pos)\n",
    "                else:\n",
    "                    labels = torch.Tensor([torch.argmax(i).item() for i in labels])\n",
    "                    \n",
    "                    score = metric_func(labels, y_pred)\n",
    "                results[metric_name][model_name] = score\n",
    "\n",
    "    return results\n",
    "\n",
    "def print_results(results):\n",
    "    for metric_name, model_results in results.items():\n",
    "        print(f'{metric_name}:')\n",
    "        for model_name, score in model_results.items():\n",
    "            print(f'  {model_name}: {score:.4f}')\n",
    "        print()"
   ]
  },
  {
   "cell_type": "code",
   "execution_count": 3,
   "id": "fde5ab30-d1bf-408f-a494-5a94b0b3f141",
   "metadata": {},
   "outputs": [],
   "source": [
    "# A class build to hold all configurations to train the model\n",
    "class Configuration:\n",
    "    def __init__(self, basePath, modelName, EPOCHS, LR, batchSize, imgSize):\n",
    "        self.trainPath = basePath + \"train/\"\n",
    "        self.testPath = basePath + \"test/\"\n",
    "        \n",
    "        self.EPOCHS = EPOCHS\n",
    "        self.lr = LR\n",
    "        self.bs = batchSize\n",
    "        self.Is = (imgSize, imgSize)\n",
    "        self.train_validate_percent = 0.95\n",
    "        \n",
    "        self.device = torch.device(\"cuda\" if torch.cuda.is_available() else \"cpu\")\n",
    "        self.modelName = modelName\n",
    "\n",
    "config = Configuration(basePath=\"../datasets/Retinal_OCT/\", modelName=\"efficientnet-b0\", EPOCHS=25, LR=0.0001, batchSize=64, imgSize=32)"
   ]
  },
  {
   "cell_type": "code",
   "execution_count": 4,
   "id": "0ae4d6c7-31d1-4d3d-8dc8-ccfce01cfb2d",
   "metadata": {},
   "outputs": [],
   "source": [
    "A_transform = transforms.Compose([\n",
    "                                        transforms.Resize(size=(128,128)),\n",
    "                                        transforms.ToTensor(),\n",
    "])\n",
    "A32_transform = transforms.Compose([\n",
    "                                        transforms.Resize(size=(32,32)),\n",
    "                                        transforms.ToTensor(),\n",
    "])\n",
    "B_transform = transforms.Compose([\n",
    "                                        transforms.Resize(size=(128,128)),\n",
    "                                        transforms.ToTensor(),\n",
    "])"
   ]
  },
  {
   "cell_type": "code",
   "execution_count": 5,
   "id": "b2026eac-2f9e-4622-b63d-ae43f18579b1",
   "metadata": {},
   "outputs": [],
   "source": [
    "A_test = CustomDataset(config.testPath, transform=A_transform)\n",
    "A32_test = CustomDataset(config.testPath, transform=A32_transform)\n",
    "B_test = CustomDataset(config.testPath, transform=B_transform)\n",
    "\n",
    "A_testLoader = DataLoader(A_test, batch_size=config.bs, shuffle=True, num_workers=0)\n",
    "A32_testLoader = DataLoader(A32_test, batch_size=config.bs, shuffle=True, num_workers=0)\n",
    "B_testLoader = DataLoader(B_test, batch_size=config.bs, shuffle=True, num_workers=0)\n",
    "\n",
    "dataloaders = [A_testLoader, A32_testLoader, B_testLoader]"
   ]
  },
  {
   "cell_type": "code",
   "execution_count": 6,
   "id": "22f47cb8-b732-49d3-8cfd-24c1432c990a",
   "metadata": {},
   "outputs": [
    {
     "name": "stdout",
     "output_type": "stream",
     "text": [
      "Loaded pretrained weights for efficientnet-b0\n",
      "Linear(in_features=1280, out_features=1000, bias=True) \n",
      "\n"
     ]
    }
   ],
   "source": [
    "model = EfficientNet.from_pretrained(config.modelName)\n",
    "\n",
    "# Prints the inital fully connected classification layer\n",
    "print(model._fc, \"\\n\")\n",
    "\n",
    "# Creates new sequential fully connected classification layers \n",
    "model._fc = nn.Sequential(\n",
    "    nn.Linear(in_features= model._fc.in_features, out_features= 512),\n",
    "    nn.ReLU(),\n",
    "    nn.Linear(in_features= 512, out_features= 128),\n",
    "    nn.ReLU(),\n",
    "    nn.Linear(in_features= 128, out_features= 2),\n",
    "    nn.Sigmoid(),\n",
    ")\n",
    "\n",
    "\n",
    "A = copy.deepcopy(model).to(config.device)\n",
    "A.load_state_dict(torch.load(\"models/BC_A.pth\"))\n",
    "\n",
    "A32 = copy.deepcopy(model).to(config.device)\n",
    "A32.load_state_dict(torch.load(\"models/BC_A_32.pth\"))\n",
    "\n",
    "B = copy.deepcopy(model).to(config.device)\n",
    "B.load_state_dict(torch.load(\"models/BC_B.pth\"))\n",
    "\n",
    "models = [A, B, A32]"
   ]
  },
  {
   "cell_type": "code",
   "execution_count": 7,
   "id": "547a24a4-d8e8-4f55-a331-c713a349b97b",
   "metadata": {},
   "outputs": [
    {
     "name": "stderr",
     "output_type": "stream",
     "text": [
      "100%|██████████████████████████████████████████████████████████████████████████████████| 15/15 [00:03<00:00,  3.81it/s]\n",
      "100%|██████████████████████████████████████████████████████████████████████████████████| 15/15 [00:02<00:00,  7.47it/s]\n",
      "100%|██████████████████████████████████████████████████████████████████████████████████| 15/15 [00:03<00:00,  4.35it/s]\n",
      "100%|██████████████████████████████████████████████████████████████████████████████████| 15/15 [00:03<00:00,  4.51it/s]\n",
      "100%|██████████████████████████████████████████████████████████████████████████████████| 15/15 [00:01<00:00,  7.74it/s]\n",
      "100%|██████████████████████████████████████████████████████████████████████████████████| 15/15 [00:03<00:00,  4.54it/s]\n",
      "100%|██████████████████████████████████████████████████████████████████████████████████| 15/15 [00:03<00:00,  4.48it/s]\n",
      "100%|██████████████████████████████████████████████████████████████████████████████████| 15/15 [00:01<00:00,  7.60it/s]\n",
      "100%|██████████████████████████████████████████████████████████████████████████████████| 15/15 [00:02<00:00,  5.03it/s]"
     ]
    },
    {
     "name": "stdout",
     "output_type": "stream",
     "text": [
      "F1 Score:\n",
      "  A: 1.0000\n",
      "  B: 0.5532\n",
      "  A32: 0.0000\n",
      "\n",
      "Accuracy:\n",
      "  A: 1.0000\n",
      "  B: 0.5588\n",
      "  A32: 0.5882\n",
      "\n",
      "AUC:\n",
      "  A: 1.0000\n",
      "  B: 0.4786\n",
      "  A32: 0.4615\n",
      "\n"
     ]
    },
    {
     "name": "stderr",
     "output_type": "stream",
     "text": [
      "\n"
     ]
    }
   ],
   "source": [
    "results = compare_models(models, dataloaders, model_names=[\"A\", \"B\", \"A32\"])\n",
    "print_results(results)"
   ]
  }
 ],
 "metadata": {
  "kernelspec": {
   "display_name": "Python 3 (ipykernel)",
   "language": "python",
   "name": "python3"
  },
  "language_info": {
   "codemirror_mode": {
    "name": "ipython",
    "version": 3
   },
   "file_extension": ".py",
   "mimetype": "text/x-python",
   "name": "python",
   "nbconvert_exporter": "python",
   "pygments_lexer": "ipython3",
   "version": "3.10.9"
  }
 },
 "nbformat": 4,
 "nbformat_minor": 5
}
